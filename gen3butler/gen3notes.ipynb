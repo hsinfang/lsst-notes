{
 "cells": [
  {
   "cell_type": "code",
   "execution_count": 181,
   "metadata": {},
   "outputs": [],
   "source": [
    "from lsst.daf.butler import Butler"
   ]
  },
  {
   "cell_type": "code",
   "execution_count": 182,
   "metadata": {},
   "outputs": [],
   "source": [
    "butler = Butler(\"/project/hchiang2/ci_hsc_gen3/w_2019_43/ci_hsc_gen3/DATA\", collection=\"shared/ci_hsc_output\")"
   ]
  },
  {
   "cell_type": "code",
   "execution_count": 183,
   "metadata": {},
   "outputs": [
    {
     "data": {
      "text/plain": [
       "{'calib/hsc',\n",
       " 'masks/hsc',\n",
       " 'raw/hsc',\n",
       " 'ref_cats',\n",
       " 'shared/ci_hsc_output',\n",
       " 'skymaps'}"
      ]
     },
     "execution_count": 183,
     "metadata": {},
     "output_type": "execute_result"
    }
   ],
   "source": [
    "butler.registry.getAllCollections()"
   ]
  },
  {
   "cell_type": "markdown",
   "metadata": {},
   "source": [
    "The API is very similar to the Gen2.  We can `butler.get` with a dict of data IDs like before"
   ]
  },
  {
   "cell_type": "code",
   "execution_count": 184,
   "metadata": {},
   "outputs": [
    {
     "name": "stdout",
     "output_type": "stream",
     "text": [
      "FITS standard SkyWcs:\n",
      "Sky Origin: (320.921403, -0.286257)\n",
      "Pixel Origin: (934.627, 2742.18)\n",
      "Pixel Scale: 0.158394 arcsec/pixel\n",
      "FITS standard SkyWcs:\n",
      "Sky Origin: (320.921403, -0.286257)\n",
      "Pixel Origin: (934.627, 2742.18)\n",
      "Pixel Scale: 0.158394 arcsec/pixel\n",
      "VisitInfo(exposureId=180666822, exposureTime=30, darkTime=30, date=2013-06-17T13:29:27.267000000, UT1=nan, ERA=1.88512 rad, boresightRaDec=(320.249933, +0.000019), boresightAzAlt=(157.958889, +68.807106), boresightAirmass=1.07239, boresightRotAngle=4.71239 rad, rotType=1, observatory=-155.477W, 19.8256N  4139, weather=Weather(0.6, 62130, 72.5))\n"
     ]
    }
   ],
   "source": [
    "exp = butler.get(\"calexp\", {\"visit\":903334, \"detector\":22, \"instrument\":\"HSC\"})\n",
    "print(exp.getWcs())\n",
    "wcs = butler.get(\"calexp.wcs\", {\"visit\":903334, \"detector\":22, \"instrument\":\"HSC\"})\n",
    "print(wcs)\n",
    "vinfo = butler.get(\"calexp.visitInfo\", {\"visit\":903334, \"detector\":22, \"instrument\":\"HSC\"})\n",
    "print(vinfo)"
   ]
  },
  {
   "cell_type": "markdown",
   "metadata": {},
   "source": [
    "We can get all data IDs/Dimensions. \n",
    "Note that `ref.dataId` is no longer a simple dict; it's a `ExpandedDataCoordinate`"
   ]
  },
  {
   "cell_type": "code",
   "execution_count": 185,
   "metadata": {},
   "outputs": [
    {
     "name": "stdout",
     "output_type": "stream",
     "text": [
      "{'instrument': 'HSC', 'detector': 22, 'visit': 903334}\n",
      "{'instrument': 'HSC', 'detector': 16, 'visit': 903334}\n",
      "{'instrument': 'HSC', 'detector': 16, 'visit': 903986}\n",
      "{'instrument': 'HSC', 'detector': 5, 'visit': 903344}\n",
      "{'instrument': 'HSC', 'detector': 10, 'visit': 904010}\n",
      "{'instrument': 'HSC', 'detector': 100, 'visit': 904010}\n",
      "{'instrument': 'HSC', 'detector': 16, 'visit': 903988}\n",
      "{'instrument': 'HSC', 'detector': 100, 'visit': 903986}\n",
      "{'instrument': 'HSC', 'detector': 23, 'visit': 903986}\n",
      "{'instrument': 'HSC', 'detector': 100, 'visit': 903334}\n",
      "{'instrument': 'HSC', 'detector': 18, 'visit': 903338}\n",
      "{'instrument': 'HSC', 'detector': 12, 'visit': 903346}\n",
      "{'instrument': 'HSC', 'detector': 6, 'visit': 903346}\n",
      "{'instrument': 'HSC', 'detector': 4, 'visit': 903342}\n",
      "{'instrument': 'HSC', 'detector': 17, 'visit': 903336}\n",
      "{'instrument': 'HSC', 'detector': 6, 'visit': 904014}\n",
      "{'instrument': 'HSC', 'detector': 4, 'visit': 904010}\n",
      "{'instrument': 'HSC', 'detector': 0, 'visit': 903344}\n",
      "{'instrument': 'HSC', 'detector': 24, 'visit': 903336}\n",
      "{'instrument': 'HSC', 'detector': 1, 'visit': 904014}\n",
      "{'instrument': 'HSC', 'detector': 24, 'visit': 903988}\n",
      "{'instrument': 'HSC', 'detector': 1, 'visit': 903346}\n",
      "{'instrument': 'HSC', 'detector': 23, 'visit': 903334}\n",
      "{'instrument': 'HSC', 'detector': 100, 'visit': 903342}\n",
      "{'instrument': 'HSC', 'detector': 25, 'visit': 903990}\n",
      "{'instrument': 'HSC', 'detector': 25, 'visit': 903338}\n",
      "{'instrument': 'HSC', 'detector': 11, 'visit': 903344}\n",
      "{'instrument': 'HSC', 'detector': 10, 'visit': 903342}\n",
      "{'instrument': 'HSC', 'detector': 22, 'visit': 903986}\n",
      "{'instrument': 'HSC', 'detector': 18, 'visit': 903990}\n",
      "{'instrument': 'HSC', 'detector': 17, 'visit': 903988}\n",
      "{'instrument': 'HSC', 'detector': 23, 'visit': 903988}\n",
      "{'instrument': 'HSC', 'detector': 12, 'visit': 904014}\n"
     ]
    }
   ],
   "source": [
    "for ref in butler.registry.queryDatasets(\"calexp\", collections=['shared/ci_hsc_output']):\n",
    "    print(ref.dataId)"
   ]
  },
  {
   "cell_type": "markdown",
   "metadata": {},
   "source": [
    "In Gen3, we can also get the WCS and the file URI without dumping the images as Python objects, for example"
   ]
  },
  {
   "cell_type": "code",
   "execution_count": 191,
   "metadata": {},
   "outputs": [
    {
     "name": "stdout",
     "output_type": "stream",
     "text": [
      "calexp has  FITS standard SkyWcs:\n",
      "Sky Origin: (320.921403, -0.286257)\n",
      "Pixel Origin: (934.627, 2742.18)\n",
      "Pixel Scale: 0.158394 arcsec/pixel \n",
      "and the file is at \n",
      " file:///project/hchiang2/ci_hsc_gen3/w_2019_43/ci_hsc_gen3/DATA/shared/ci_hsc_output/calexp/r/HSC-R/903334/calexp_r_HSC-R_903334_22_HSC_7.fits\n",
      "calexp has  FITS standard SkyWcs:\n",
      "Sky Origin: (320.746067, -0.390681)\n",
      "Pixel Origin: (1033.9, 2212.6)\n",
      "Pixel Scale: 0.161463 arcsec/pixel \n",
      "and the file is at \n",
      " file:///project/hchiang2/ci_hsc_gen3/w_2019_43/ci_hsc_gen3/DATA/shared/ci_hsc_output/calexp/r/HSC-R/903334/calexp_r_HSC-R_903334_16_HSC_7.fits\n",
      "calexp has  FITS standard SkyWcs:\n",
      "Sky Origin: (320.745734, -0.391748)\n",
      "Pixel Origin: (1049.18, 2208.14)\n",
      "Pixel Scale: 0.16141 arcsec/pixel \n",
      "and the file is at \n",
      " file:///project/hchiang2/ci_hsc_gen3/w_2019_43/ci_hsc_gen3/DATA/shared/ci_hsc_output/calexp/i/HSC-I/903986/calexp_i_HSC-I_903986_16_HSC_7.fits\n",
      "calexp has  FITS standard SkyWcs:\n",
      "Sky Origin: (320.801904, -0.331817)\n",
      "Pixel Origin: (1074.12, 1999.91)\n",
      "Pixel Scale: 0.160804 arcsec/pixel \n",
      "and the file is at \n",
      " file:///project/hchiang2/ci_hsc_gen3/w_2019_43/ci_hsc_gen3/DATA/shared/ci_hsc_output/calexp/r/HSC-R/903344/calexp_r_HSC-R_903344_5_HSC_7.fits\n",
      "calexp has  FITS standard SkyWcs:\n",
      "Sky Origin: (320.751343, -0.232759)\n",
      "Pixel Origin: (1066.8, 1924.27)\n",
      "Pixel Scale: 0.159492 arcsec/pixel \n",
      "and the file is at \n",
      " file:///project/hchiang2/ci_hsc_gen3/w_2019_43/ci_hsc_gen3/DATA/shared/ci_hsc_output/calexp/i/HSC-I/904010/calexp_i_HSC-I_904010_10_HSC_7.fits\n",
      "calexp has  FITS standard SkyWcs:\n",
      "Sky Origin: (320.892422, -0.149188)\n",
      "Pixel Origin: (845.16, 1288.51)\n",
      "Pixel Scale: 0.157358 arcsec/pixel \n",
      "and the file is at \n",
      " file:///project/hchiang2/ci_hsc_gen3/w_2019_43/ci_hsc_gen3/DATA/shared/ci_hsc_output/calexp/i/HSC-I/904010/calexp_i_HSC-I_904010_100_HSC_7.fits\n",
      "calexp has  FITS standard SkyWcs:\n",
      "Sky Origin: (320.996760, -0.389738)\n",
      "Pixel Origin: (1005.37, 2186.65)\n",
      "Pixel Scale: 0.161441 arcsec/pixel \n",
      "and the file is at \n",
      " file:///project/hchiang2/ci_hsc_gen3/w_2019_43/ci_hsc_gen3/DATA/shared/ci_hsc_output/calexp/i/HSC-I/903988/calexp_i_HSC-I_903988_16_HSC_7.fits\n",
      "calexp has  FITS standard SkyWcs:\n",
      "Sky Origin: (320.888502, -0.400388)\n",
      "Pixel Origin: (756.674, 1295.04)\n",
      "Pixel Scale: 0.157471 arcsec/pixel \n",
      "and the file is at \n",
      " file:///project/hchiang2/ci_hsc_gen3/w_2019_43/ci_hsc_gen3/DATA/shared/ci_hsc_output/calexp/i/HSC-I/903986/calexp_i_HSC-I_903986_100_HSC_7.fits\n",
      "calexp has  FITS standard SkyWcs:\n",
      "Sky Origin: (320.746671, -0.292526)\n",
      "Pixel Origin: (983.796, 2227.91)\n",
      "Pixel Scale: 0.162814 arcsec/pixel \n",
      "and the file is at \n",
      " file:///project/hchiang2/ci_hsc_gen3/w_2019_43/ci_hsc_gen3/DATA/shared/ci_hsc_output/calexp/i/HSC-I/903986/calexp_i_HSC-I_903986_23_HSC_7.fits\n",
      "calexp has  FITS standard SkyWcs:\n",
      "Sky Origin: (320.886619, -0.403896)\n",
      "Pixel Origin: (703.182, 1381.66)\n",
      "Pixel Scale: 0.157489 arcsec/pixel \n",
      "and the file is at \n",
      " file:///project/hchiang2/ci_hsc_gen3/w_2019_43/ci_hsc_gen3/DATA/shared/ci_hsc_output/calexp/r/HSC-R/903334/calexp_r_HSC-R_903334_100_HSC_7.fits\n",
      "calexp has  FITS standard SkyWcs:\n",
      "Sky Origin: (320.835930, -0.393335)\n",
      "Pixel Origin: (981.693, 2216.5)\n",
      "Pixel Scale: 0.166058 arcsec/pixel \n",
      "and the file is at \n",
      " file:///project/hchiang2/ci_hsc_gen3/w_2019_43/ci_hsc_gen3/DATA/shared/ci_hsc_output/calexp/r/HSC-R/903338/calexp_r_HSC-R_903338_18_HSC_7.fits\n",
      "calexp has  FITS standard SkyWcs:\n",
      "Sky Origin: (320.852488, -0.239197)\n",
      "Pixel Origin: (1080.38, 2104.3)\n",
      "Pixel Scale: 0.164449 arcsec/pixel \n",
      "and the file is at \n",
      " file:///project/hchiang2/ci_hsc_gen3/w_2019_43/ci_hsc_gen3/DATA/shared/ci_hsc_output/calexp/r/HSC-R/903346/calexp_r_HSC-R_903346_12_HSC_7.fits\n",
      "calexp has  FITS standard SkyWcs:\n",
      "Sky Origin: (320.849890, -0.336568)\n",
      "Pixel Origin: (1026.55, 2057.72)\n",
      "Pixel Scale: 0.162401 arcsec/pixel \n",
      "and the file is at \n",
      " file:///project/hchiang2/ci_hsc_gen3/w_2019_43/ci_hsc_gen3/DATA/shared/ci_hsc_output/calexp/r/HSC-R/903346/calexp_r_HSC-R_903346_6_HSC_7.fits\n",
      "calexp has  FITS standard SkyWcs:\n",
      "Sky Origin: (320.730394, -0.320637)\n",
      "Pixel Origin: (1216.98, 1505.3)\n",
      "Pixel Scale: 0.157811 arcsec/pixel \n",
      "and the file is at \n",
      " file:///project/hchiang2/ci_hsc_gen3/w_2019_43/ci_hsc_gen3/DATA/shared/ci_hsc_output/calexp/r/HSC-R/903342/calexp_r_HSC-R_903342_4_HSC_7.fits\n",
      "calexp has  FITS standard SkyWcs:\n",
      "Sky Origin: (320.795021, -0.394790)\n",
      "Pixel Origin: (1049.61, 2168.61)\n",
      "Pixel Scale: 0.164592 arcsec/pixel \n",
      "and the file is at \n",
      " file:///project/hchiang2/ci_hsc_gen3/w_2019_43/ci_hsc_gen3/DATA/shared/ci_hsc_output/calexp/r/HSC-R/903336/calexp_r_HSC-R_903336_17_HSC_7.fits\n",
      "calexp has  FITS standard SkyWcs:\n",
      "Sky Origin: (320.849897, -0.336957)\n",
      "Pixel Origin: (1003.25, 2064.85)\n",
      "Pixel Scale: 0.162343 arcsec/pixel \n",
      "and the file is at \n",
      " file:///project/hchiang2/ci_hsc_gen3/w_2019_43/ci_hsc_gen3/DATA/shared/ci_hsc_output/calexp/i/HSC-I/904014/calexp_i_HSC-I_904014_6_HSC_7.fits\n",
      "calexp has  FITS standard SkyWcs:\n",
      "Sky Origin: (320.729727, -0.320569)\n",
      "Pixel Origin: (1206.33, 1500.6)\n",
      "Pixel Scale: 0.157779 arcsec/pixel \n",
      "and the file is at \n",
      " file:///project/hchiang2/ci_hsc_gen3/w_2019_43/ci_hsc_gen3/DATA/shared/ci_hsc_output/calexp/i/HSC-I/904010/calexp_i_HSC-I_904010_4_HSC_7.fits\n",
      "calexp has  FITS standard SkyWcs:\n",
      "Sky Origin: (320.793194, -0.416102)\n",
      "Pixel Origin: (1265.16, 1850.09)\n",
      "Pixel Scale: 0.158475 arcsec/pixel \n",
      "and the file is at \n",
      " file:///project/hchiang2/ci_hsc_gen3/w_2019_43/ci_hsc_gen3/DATA/shared/ci_hsc_output/calexp/r/HSC-R/903344/calexp_r_HSC-R_903344_0_HSC_7.fits\n",
      "calexp has  FITS standard SkyWcs:\n",
      "Sky Origin: (320.795999, -0.294760)\n",
      "Pixel Origin: (988.524, 2170.39)\n",
      "Pixel Scale: 0.165818 arcsec/pixel \n",
      "and the file is at \n",
      " file:///project/hchiang2/ci_hsc_gen3/w_2019_43/ci_hsc_gen3/DATA/shared/ci_hsc_output/calexp/r/HSC-R/903336/calexp_r_HSC-R_903336_24_HSC_7.fits\n",
      "calexp has  FITS standard SkyWcs:\n",
      "Sky Origin: (320.846793, -0.426530)\n",
      "Pixel Origin: (1078.9, 2013.84)\n",
      "Pixel Scale: 0.159901 arcsec/pixel \n",
      "and the file is at \n",
      " file:///project/hchiang2/ci_hsc_gen3/w_2019_43/ci_hsc_gen3/DATA/shared/ci_hsc_output/calexp/i/HSC-I/904014/calexp_i_HSC-I_904014_1_HSC_7.fits\n",
      "calexp has  FITS standard SkyWcs:\n",
      "Sky Origin: (320.796721, -0.294347)\n",
      "Pixel Origin: (972.43, 2145.88)\n",
      "Pixel Scale: 0.165791 arcsec/pixel \n",
      "and the file is at \n",
      " file:///project/hchiang2/ci_hsc_gen3/w_2019_43/ci_hsc_gen3/DATA/shared/ci_hsc_output/calexp/i/HSC-I/903988/calexp_i_HSC-I_903988_24_HSC_7.fits\n",
      "calexp has  FITS standard SkyWcs:\n",
      "Sky Origin: (320.846452, -0.425738)\n",
      "Pixel Origin: (1112.67, 1998.76)\n",
      "Pixel Scale: 0.159978 arcsec/pixel \n",
      "and the file is at \n",
      " file:///project/hchiang2/ci_hsc_gen3/w_2019_43/ci_hsc_gen3/DATA/shared/ci_hsc_output/calexp/r/HSC-R/903346/calexp_r_HSC-R_903346_1_HSC_7.fits\n",
      "calexp has  FITS standard SkyWcs:\n",
      "Sky Origin: (320.746593, -0.291777)\n",
      "Pixel Origin: (976.113, 2240.56)\n",
      "Pixel Scale: 0.162855 arcsec/pixel \n",
      "and the file is at \n",
      " file:///project/hchiang2/ci_hsc_gen3/w_2019_43/ci_hsc_gen3/DATA/shared/ci_hsc_output/calexp/r/HSC-R/903334/calexp_r_HSC-R_903334_23_HSC_7.fits\n",
      "calexp has  FITS standard SkyWcs:\n",
      "Sky Origin: (320.891766, -0.150806)\n",
      "Pixel Origin: (820.366, 1313.48)\n",
      "Pixel Scale: 0.15739 arcsec/pixel \n",
      "and the file is at \n",
      " file:///project/hchiang2/ci_hsc_gen3/w_2019_43/ci_hsc_gen3/DATA/shared/ci_hsc_output/calexp/r/HSC-R/903342/calexp_r_HSC-R_903342_100_HSC_7.fits\n",
      "calexp has  FITS standard SkyWcs:\n",
      "Sky Origin: (320.835942, -0.296470)\n",
      "Pixel Origin: (996.631, 2212.95)\n",
      "Pixel Scale: 0.167161 arcsec/pixel \n",
      "and the file is at \n",
      " file:///project/hchiang2/ci_hsc_gen3/w_2019_43/ci_hsc_gen3/DATA/shared/ci_hsc_output/calexp/i/HSC-I/903990/calexp_i_HSC-I_903990_25_HSC_7.fits\n",
      "calexp has  FITS standard SkyWcs:\n",
      "Sky Origin: (320.837474, -0.296213)\n",
      "Pixel Origin: (995.374, 2186.89)\n",
      "Pixel Scale: 0.167184 arcsec/pixel \n",
      "and the file is at \n",
      " file:///project/hchiang2/ci_hsc_gen3/w_2019_43/ci_hsc_gen3/DATA/shared/ci_hsc_output/calexp/r/HSC-R/903338/calexp_r_HSC-R_903338_25_HSC_7.fits\n",
      "calexp has  FITS standard SkyWcs:\n",
      "Sky Origin: (320.807261, -0.237807)\n",
      "Pixel Origin: (1063.31, 2077.54)\n",
      "Pixel Scale: 0.162838 arcsec/pixel \n",
      "and the file is at \n",
      " file:///project/hchiang2/ci_hsc_gen3/w_2019_43/ci_hsc_gen3/DATA/shared/ci_hsc_output/calexp/r/HSC-R/903344/calexp_r_HSC-R_903344_11_HSC_7.fits\n",
      "calexp has  FITS standard SkyWcs:\n",
      "Sky Origin: (320.751540, -0.233835)\n",
      "Pixel Origin: (1054.39, 1919.33)\n",
      "Pixel Scale: 0.159532 arcsec/pixel \n",
      "and the file is at \n",
      " file:///project/hchiang2/ci_hsc_gen3/w_2019_43/ci_hsc_gen3/DATA/shared/ci_hsc_output/calexp/r/HSC-R/903342/calexp_r_HSC-R_903342_10_HSC_7.fits\n",
      "calexp has  FITS standard SkyWcs:\n",
      "Sky Origin: (320.921055, -0.285706)\n",
      "Pixel Origin: (912.244, 2738.79)\n",
      "Pixel Scale: 0.158366 arcsec/pixel \n",
      "and the file is at \n",
      " file:///project/hchiang2/ci_hsc_gen3/w_2019_43/ci_hsc_gen3/DATA/shared/ci_hsc_output/calexp/i/HSC-I/903986/calexp_i_HSC-I_903986_22_HSC_7.fits\n",
      "calexp has  FITS standard SkyWcs:\n",
      "Sky Origin: (320.836451, -0.393474)\n",
      "Pixel Origin: (980.945, 2197.73)\n",
      "Pixel Scale: 0.166016 arcsec/pixel \n",
      "and the file is at \n",
      " file:///project/hchiang2/ci_hsc_gen3/w_2019_43/ci_hsc_gen3/DATA/shared/ci_hsc_output/calexp/i/HSC-I/903990/calexp_i_HSC-I_903990_18_HSC_7.fits\n",
      "calexp has  FITS standard SkyWcs:\n",
      "Sky Origin: (320.796197, -0.394794)\n",
      "Pixel Origin: (1043.19, 2133.27)\n",
      "Pixel Scale: 0.164532 arcsec/pixel \n",
      "and the file is at \n",
      " file:///project/hchiang2/ci_hsc_gen3/w_2019_43/ci_hsc_gen3/DATA/shared/ci_hsc_output/calexp/i/HSC-I/903988/calexp_i_HSC-I_903988_17_HSC_7.fits\n",
      "calexp has  FITS standard SkyWcs:\n",
      "Sky Origin: (320.998146, -0.294462)\n",
      "Pixel Origin: (1027.25, 2194.58)\n",
      "Pixel Scale: 0.162767 arcsec/pixel \n",
      "and the file is at \n",
      " file:///project/hchiang2/ci_hsc_gen3/w_2019_43/ci_hsc_gen3/DATA/shared/ci_hsc_output/calexp/i/HSC-I/903988/calexp_i_HSC-I_903988_23_HSC_7.fits\n",
      "calexp has  FITS standard SkyWcs:\n",
      "Sky Origin: (320.852769, -0.239087)\n",
      "Pixel Origin: (1069.02, 2116.78)\n",
      "Pixel Scale: 0.164394 arcsec/pixel \n",
      "and the file is at \n",
      " file:///project/hchiang2/ci_hsc_gen3/w_2019_43/ci_hsc_gen3/DATA/shared/ci_hsc_output/calexp/i/HSC-I/904014/calexp_i_HSC-I_904014_12_HSC_7.fits\n"
     ]
    }
   ],
   "source": [
    "for ref in butler.registry.queryDatasets(\"calexp.wcs\", collections=['shared/ci_hsc_output']):\n",
    "    wcs = butler.get(ref)\n",
    "    uri = butler.datastore.getUri(ref)\n",
    "    print(\"calexp has \", wcs, \"\\nand the file is at \\n\", uri)"
   ]
  },
  {
   "cell_type": "markdown",
   "metadata": {},
   "source": [
    "With the `DatasetRef`, we may also use `butler.getDirect`"
   ]
  },
  {
   "cell_type": "code",
   "execution_count": 187,
   "metadata": {},
   "outputs": [
    {
     "data": {
      "text/plain": [
       "FITS standard SkyWcs:\n",
       "Sky Origin: (320.921403, -0.286257)\n",
       "Pixel Origin: (934.627, 2742.18)\n",
       "Pixel Scale: 0.158394 arcsec/pixel"
      ]
     },
     "execution_count": 187,
     "metadata": {},
     "output_type": "execute_result"
    }
   ],
   "source": [
    "rows = butler.registry.queryDatasets(\"calexp\", collections=['shared/ci_hsc_output'])\n",
    "ref = list(rows)[0]  # Just to get the first DatasetRef\n",
    "exp = butler.getDirect(ref)\n",
    "exp.getWcs()"
   ]
  },
  {
   "cell_type": "code",
   "execution_count": null,
   "metadata": {},
   "outputs": [],
   "source": []
  }
 ],
 "metadata": {
  "kernelspec": {
   "display_name": "LSST",
   "language": "python",
   "name": "lsst"
  },
  "language_info": {
   "codemirror_mode": {
    "name": "ipython",
    "version": 3
   },
   "file_extension": ".py",
   "mimetype": "text/x-python",
   "name": "python",
   "nbconvert_exporter": "python",
   "pygments_lexer": "ipython3",
   "version": "3.7.2"
  }
 },
 "nbformat": 4,
 "nbformat_minor": 4
}
