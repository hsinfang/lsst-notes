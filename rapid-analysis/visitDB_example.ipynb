{
 "cells": [
  {
   "cell_type": "code",
   "execution_count": null,
   "id": "60c07056-098b-46d4-a525-c192a83a79bc",
   "metadata": {
    "tags": []
   },
   "outputs": [],
   "source": [
    "import getpass\n",
    "from aioinflux import InfluxDBClient"
   ]
  },
  {
   "cell_type": "code",
   "execution_count": null,
   "id": "3ff8ea5b-e1d3-4991-996e-cc0310a78064",
   "metadata": {
    "tags": []
   },
   "outputs": [],
   "source": [
    "username = \"reader\"\n",
    "password = getpass.getpass(prompt='Password for user `{}`: '.format(username))"
   ]
  },
  {
   "cell_type": "code",
   "execution_count": null,
   "id": "2c0b28f5-e806-4c2a-8945-a81972fbbf6f",
   "metadata": {
    "tags": []
   },
   "outputs": [],
   "source": [
    "client = InfluxDBClient(host=\"usdf-rsp-dev.slac.stanford.edu\", ssl=True, \n",
    "                        port=443, path=\"/influxdb/\", database=\"lsst.rubintv\",\n",
    "                        username=username, password=password, output=\"dataframe\")"
   ]
  },
  {
   "cell_type": "markdown",
   "id": "d1af3872-5a05-47ca-9b6a-a950b1353ca8",
   "metadata": {},
   "source": [
    "\"lsst.rubintv.debug.devtest15\" is where all data are currently up to the end of May.\n",
    "Data are not automatically ingested throughout the observing nights yet.\n",
    "Queries return a Pandas Dataframe. \n",
    "If a data point is missing, it has 0 for numeric data and empty string for string. Users might want to filter those out. Plans to have more sensible sentinel values are under discussions."
   ]
  },
  {
   "cell_type": "code",
   "execution_count": null,
   "id": "d36b4f65-b83a-45d5-8f55-b141450ced25",
   "metadata": {
    "tags": []
   },
   "outputs": [],
   "source": [
    "df = await client.query('''SELECT timestamp, dayobs, seqnum, airmass, mount_motion_image_degradation \n",
    "FROM \"lsst.rubintv.debug.devtest15\" WHERE dayobs = 20230510''')"
   ]
  },
  {
   "cell_type": "code",
   "execution_count": 6,
   "id": "f7000435-c044-4b42-ae09-1cafa2642eb4",
   "metadata": {
    "execution": {
     "iopub.execute_input": "2023-06-14T20:05:38.223563Z",
     "iopub.status.busy": "2023-06-14T20:05:38.223141Z",
     "iopub.status.idle": "2023-06-14T20:05:38.232175Z",
     "shell.execute_reply": "2023-06-14T20:05:38.231735Z",
     "shell.execute_reply.started": "2023-06-14T20:05:38.223542Z"
    },
    "tags": []
   },
   "outputs": [
    {
     "data": {
      "text/html": [
       "<div>\n",
       "<style scoped>\n",
       "    .dataframe tbody tr th:only-of-type {\n",
       "        vertical-align: middle;\n",
       "    }\n",
       "\n",
       "    .dataframe tbody tr th {\n",
       "        vertical-align: top;\n",
       "    }\n",
       "\n",
       "    .dataframe thead th {\n",
       "        text-align: right;\n",
       "    }\n",
       "</style>\n",
       "<table border=\"1\" class=\"dataframe\">\n",
       "  <thead>\n",
       "    <tr style=\"text-align: right;\">\n",
       "      <th></th>\n",
       "      <th>timestamp</th>\n",
       "      <th>dayobs</th>\n",
       "      <th>seqnum</th>\n",
       "      <th>airmass</th>\n",
       "      <th>mount_motion_image_degradation</th>\n",
       "    </tr>\n",
       "  </thead>\n",
       "  <tbody>\n",
       "    <tr>\n",
       "      <th>2023-05-10 07:00:00.000001+00:00</th>\n",
       "      <td>1683702000000001</td>\n",
       "      <td>20230510</td>\n",
       "      <td>1</td>\n",
       "      <td>0.000000</td>\n",
       "      <td>0.000000</td>\n",
       "    </tr>\n",
       "    <tr>\n",
       "      <th>2023-05-10 07:00:00.000002+00:00</th>\n",
       "      <td>1683702000000002</td>\n",
       "      <td>20230510</td>\n",
       "      <td>2</td>\n",
       "      <td>0.000000</td>\n",
       "      <td>0.000000</td>\n",
       "    </tr>\n",
       "    <tr>\n",
       "      <th>2023-05-10 07:00:00.000003+00:00</th>\n",
       "      <td>1683702000000003</td>\n",
       "      <td>20230510</td>\n",
       "      <td>3</td>\n",
       "      <td>1.408620</td>\n",
       "      <td>0.015612</td>\n",
       "    </tr>\n",
       "    <tr>\n",
       "      <th>2023-05-10 07:00:00.000004+00:00</th>\n",
       "      <td>1683702000000004</td>\n",
       "      <td>20230510</td>\n",
       "      <td>4</td>\n",
       "      <td>1.015183</td>\n",
       "      <td>0.013208</td>\n",
       "    </tr>\n",
       "    <tr>\n",
       "      <th>2023-05-10 07:00:00.000005+00:00</th>\n",
       "      <td>1683702000000005</td>\n",
       "      <td>20230510</td>\n",
       "      <td>5</td>\n",
       "      <td>0.000000</td>\n",
       "      <td>0.000000</td>\n",
       "    </tr>\n",
       "    <tr>\n",
       "      <th>...</th>\n",
       "      <td>...</td>\n",
       "      <td>...</td>\n",
       "      <td>...</td>\n",
       "      <td>...</td>\n",
       "      <td>...</td>\n",
       "    </tr>\n",
       "    <tr>\n",
       "      <th>2023-05-10 07:00:00.000586+00:00</th>\n",
       "      <td>1683702000000586</td>\n",
       "      <td>20230510</td>\n",
       "      <td>586</td>\n",
       "      <td>0.000000</td>\n",
       "      <td>0.000000</td>\n",
       "    </tr>\n",
       "    <tr>\n",
       "      <th>2023-05-10 07:00:00.000587+00:00</th>\n",
       "      <td>1683702000000587</td>\n",
       "      <td>20230510</td>\n",
       "      <td>587</td>\n",
       "      <td>0.000000</td>\n",
       "      <td>0.000000</td>\n",
       "    </tr>\n",
       "    <tr>\n",
       "      <th>2023-05-10 07:00:00.000588+00:00</th>\n",
       "      <td>1683702000000588</td>\n",
       "      <td>20230510</td>\n",
       "      <td>588</td>\n",
       "      <td>0.000000</td>\n",
       "      <td>0.000000</td>\n",
       "    </tr>\n",
       "    <tr>\n",
       "      <th>2023-05-10 07:00:00.000589+00:00</th>\n",
       "      <td>1683702000000589</td>\n",
       "      <td>20230510</td>\n",
       "      <td>589</td>\n",
       "      <td>0.000000</td>\n",
       "      <td>0.000000</td>\n",
       "    </tr>\n",
       "    <tr>\n",
       "      <th>2023-05-10 07:00:00.000590+00:00</th>\n",
       "      <td>1683702000000590</td>\n",
       "      <td>20230510</td>\n",
       "      <td>590</td>\n",
       "      <td>0.000000</td>\n",
       "      <td>0.000000</td>\n",
       "    </tr>\n",
       "  </tbody>\n",
       "</table>\n",
       "<p>590 rows × 5 columns</p>\n",
       "</div>"
      ],
      "text/plain": [
       "                                         timestamp    dayobs  seqnum   \n",
       "2023-05-10 07:00:00.000001+00:00  1683702000000001  20230510       1  \\\n",
       "2023-05-10 07:00:00.000002+00:00  1683702000000002  20230510       2   \n",
       "2023-05-10 07:00:00.000003+00:00  1683702000000003  20230510       3   \n",
       "2023-05-10 07:00:00.000004+00:00  1683702000000004  20230510       4   \n",
       "2023-05-10 07:00:00.000005+00:00  1683702000000005  20230510       5   \n",
       "...                                            ...       ...     ...   \n",
       "2023-05-10 07:00:00.000586+00:00  1683702000000586  20230510     586   \n",
       "2023-05-10 07:00:00.000587+00:00  1683702000000587  20230510     587   \n",
       "2023-05-10 07:00:00.000588+00:00  1683702000000588  20230510     588   \n",
       "2023-05-10 07:00:00.000589+00:00  1683702000000589  20230510     589   \n",
       "2023-05-10 07:00:00.000590+00:00  1683702000000590  20230510     590   \n",
       "\n",
       "                                   airmass  mount_motion_image_degradation  \n",
       "2023-05-10 07:00:00.000001+00:00  0.000000                        0.000000  \n",
       "2023-05-10 07:00:00.000002+00:00  0.000000                        0.000000  \n",
       "2023-05-10 07:00:00.000003+00:00  1.408620                        0.015612  \n",
       "2023-05-10 07:00:00.000004+00:00  1.015183                        0.013208  \n",
       "2023-05-10 07:00:00.000005+00:00  0.000000                        0.000000  \n",
       "...                                    ...                             ...  \n",
       "2023-05-10 07:00:00.000586+00:00  0.000000                        0.000000  \n",
       "2023-05-10 07:00:00.000587+00:00  0.000000                        0.000000  \n",
       "2023-05-10 07:00:00.000588+00:00  0.000000                        0.000000  \n",
       "2023-05-10 07:00:00.000589+00:00  0.000000                        0.000000  \n",
       "2023-05-10 07:00:00.000590+00:00  0.000000                        0.000000  \n",
       "\n",
       "[590 rows x 5 columns]"
      ]
     },
     "execution_count": 6,
     "metadata": {},
     "output_type": "execute_result"
    }
   ],
   "source": [
    "df"
   ]
  },
  {
   "cell_type": "code",
   "execution_count": null,
   "id": "fbc0b988-04df-41ae-9d21-a339fe2c8217",
   "metadata": {
    "tags": []
   },
   "outputs": [],
   "source": []
  },
  {
   "cell_type": "code",
   "execution_count": null,
   "id": "585201c7-e464-4f8a-ac75-a7892ebd6a14",
   "metadata": {},
   "outputs": [],
   "source": []
  }
 ],
 "metadata": {
  "kernelspec": {
   "display_name": "LSST",
   "language": "python",
   "name": "lsst"
  },
  "language_info": {
   "codemirror_mode": {
    "name": "ipython",
    "version": 3
   },
   "file_extension": ".py",
   "mimetype": "text/x-python",
   "name": "python",
   "nbconvert_exporter": "python",
   "pygments_lexer": "ipython3",
   "version": "3.10.10"
  }
 },
 "nbformat": 4,
 "nbformat_minor": 5
}
